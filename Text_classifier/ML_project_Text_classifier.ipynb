{
 "cells": [
  {
   "cell_type": "markdown",
   "metadata": {},
   "source": [
    "# Классификация текстов"
   ]
  },
  {
   "cell_type": "markdown",
   "metadata": {},
   "source": [
    "## Введение"
   ]
  },
  {
   "cell_type": "markdown",
   "metadata": {},
   "source": [
    "<font color='navy'><b><u>Целевая задача Заказчика</b></u> - для запуска нового сервиса инернет-магазину необходим инструмент, который будет искать токсичные комментарии и отправлять их на модерацию."
   ]
  },
  {
   "cell_type": "markdown",
   "metadata": {},
   "source": [
    "<Font color='navy'><b><i><u>Цель исследования </b></u>- разработка модели машинного обучения, осуществляющей кассификацию комментариев на позитивные и негативные. Установленный порог качества модели - метрика F1 не менее 0.75 "
   ]
  },
  {
   "cell_type": "markdown",
   "metadata": {},
   "source": [
    "<Font color='navy'><b><u>Задачи исследования </b></u>- очистка, лемматизация и векторизация текстов, обучение моделей и выбор наилучшей."
   ]
  },
  {
   "cell_type": "markdown",
   "metadata": {},
   "source": [
    "<Font color='navy'><b><i><u>План работы</b></i></u><br>\n",
    "<Font color='navy'>1. загрузка библиотек и данных, обзор данных<br>\n",
    "<Font color='navy'>2. очистка и лемматизация комментариев<br>\n",
    "<Font color='navy'>3. векторизация тектсов и формирование признаков<br>\n",
    "<Font color='navy'>4. обучение и выбор лучшей моедли<br>"
   ]
  },
  {
   "cell_type": "markdown",
   "metadata": {},
   "source": [
    "## Загрузка и обзор днных"
   ]
  },
  {
   "cell_type": "markdown",
   "metadata": {},
   "source": [
    "### Загрузка библиотек"
   ]
  },
  {
   "cell_type": "code",
   "execution_count": 1,
   "metadata": {},
   "outputs": [
    {
     "name": "stderr",
     "output_type": "stream",
     "text": [
      "C:\\Users\\Svetlana\\anaconda3\\Lib\\site-packages\\torch\\cuda\\__init__.py:991: UserWarning: CUDA initialization: The NVIDIA driver on your system is too old (found version 8000). Please update your GPU driver by downloading and installing a new version from the URL: http://www.nvidia.com/Download/index.aspx Alternatively, go to: https://pytorch.org to install a PyTorch version that has been compiled with your version of the CUDA driver. (Triggered internally at C:\\actions-runner\\_work\\pytorch\\pytorch\\pytorch\\c10\\cuda\\CUDAFunctions.cpp:109.)\n",
      "  r = torch._C._cuda_getDeviceCount() if nvml_count < 0 else nvml_count\n"
     ]
    },
    {
     "name": "stdout",
     "output_type": "stream",
     "text": [
      "INFO: Pandarallel will run on 2 workers.\n",
      "INFO: Pandarallel will use standard multiprocessing data transfer (pipe) to transfer data between the main process and workers.\n",
      "\n",
      "WARNING: You are on Windows. If you detect any issue with pandarallel, be sure you checked out the Troubleshooting page:\n",
      "https://nalepae.github.io/pandarallel/troubleshooting/\n"
     ]
    },
    {
     "name": "stderr",
     "output_type": "stream",
     "text": [
      "[nltk_data] Downloading package wordnet to\n",
      "[nltk_data]     C:\\Users\\Svetlana\\AppData\\Roaming\\nltk_data...\n",
      "[nltk_data]   Package wordnet is already up-to-date!\n"
     ]
    }
   ],
   "source": [
    "# импорт основных библиотек\n",
    "import pandas as pd\n",
    "from pymystem3 import Mystem\n",
    "import numpy as np\n",
    "import re\n",
    "import sklearn\n",
    "import nltk\n",
    "import spacy\n",
    "import torch\n",
    "import transformers\n",
    "from tqdm.notebook import tqdm\n",
    "import time\n",
    "from pandarallel import pandarallel\n",
    "pandarallel.initialize(progress_bar=True)\n",
    "import warnings\n",
    "warnings.simplefilter(\"ignore\")\n",
    "\n",
    "# импорт модулей для работы с текстом\n",
    "from nltk.corpus import wordnet\n",
    "from nltk.corpus import stopwords as nltk_stopwords\n",
    "from nltk.stem import WordNetLemmatizer \n",
    "from sklearn.feature_extraction.text import CountVectorizer, TfidfVectorizer \n",
    "\n",
    "nltk.download('wordnet')\n",
    "\n",
    "# импорт модулей для разделения данных и создания моделей МО\n",
    "from sklearn.linear_model import LogisticRegression\n",
    "from sklearn.ensemble import RandomForestClassifier\n",
    "from sklearn.tree import DecisionTreeClassifier\n",
    "from lightgbm import LGBMClassifier\n",
    "from catboost import CatBoostClassifier\n",
    "\n",
    "from sklearn.model_selection import train_test_split\n",
    "from imblearn.over_sampling import RandomOverSampler\n",
    "from imblearn.under_sampling import RandomUnderSampler\n",
    "\n",
    " \n",
    "# загружаем инструмент для автоподбора гиперпараметров\n",
    "from sklearn.model_selection import GridSearchCV, RandomizedSearchCV, cross_val_score\n",
    "\n",
    "# импорт модулей для расчета метрик\n",
    "from sklearn.metrics import (recall_score,\\\n",
    "                            precision_score, \\\n",
    "                            accuracy_score, \\\n",
    "                            f1_score, \\\n",
    "                            roc_auc_score, \n",
    "                            roc_curve, \\\n",
    "                            confusion_matrix)\n",
    "from sklearn.utils import shuffle\n",
    "\n",
    "# импорт библиотек для визуализации\n",
    "from matplotlib import pyplot as plt\n",
    "import seaborn as sns\n"
   ]
  },
  {
   "cell_type": "code",
   "execution_count": 3,
   "metadata": {},
   "outputs": [],
   "source": [
    "# Снимем ограничения на вывод данных в pandas-таблице\n",
    "pd.set_option(\"display.max_colwidth\", None)\n",
    "pd.set_option('display.max_columns', None)\n",
    "pd.set_option('display.max_rows', None)\n",
    "\n",
    "# выставляем ограничение на показ знаков после запятой\n",
    "pd.options.display.float_format = '{:,.2f}'.format"
   ]
  },
  {
   "cell_type": "code",
   "execution_count": 5,
   "metadata": {},
   "outputs": [
    {
     "name": "stderr",
     "output_type": "stream",
     "text": [
      "[nltk_data] Downloading package stopwords to\n",
      "[nltk_data]     C:\\Users\\Svetlana\\AppData\\Roaming\\nltk_data...\n",
      "[nltk_data]   Package stopwords is already up-to-date!\n"
     ]
    }
   ],
   "source": [
    "# установим константу\n",
    "RANDOM_STATE = 77\n",
    "\n",
    "# установим словарь для стоп слов\n",
    "nltk.download('stopwords') \n",
    "\n",
    "# Загружаем английскую языковую модель для spacy\n",
    "nlp = spacy.load(\"en_core_web_sm\")\n",
    "\n",
    "STOP_WORDS = list(nltk_stopwords.words('english'))"
   ]
  },
  {
   "cell_type": "markdown",
   "metadata": {},
   "source": [
    "### Загрузка и обзор данных"
   ]
  },
  {
   "cell_type": "code",
   "execution_count": 8,
   "metadata": {},
   "outputs": [],
   "source": [
    "# функция для обзора данных\n",
    "def display_df_info(data):\n",
    "    print('\\u001b[38;5;19m', '-'*100)\n",
    "    display(data.head(5))\n",
    "    print('\\u001b[38;5;19m', '-'*100)\n",
    "    data.info()\n",
    "    print('\\u001b[38;5;19m', '-'*100)\n",
    "    print('\\u001b[38;5;19m', 'Количество столбцов - {}, количество записей - {}'.format(data.shape[1], data.shape[0]))\n",
    "   \n",
    "    dupl = data.duplicated().sum()\n",
    "    if dupl != 0:\n",
    "        print('\\u001b[38;5;19m', 'Выявлено {:,.0f} дубликатов записей, их количество составляет {:.2%} от всех записей'.format(dupl, dupl / data.shape[0]))\n",
    "    else:\n",
    "        print('\\u001b[38;5;19m', 'Дубликаты записей не выявлены')\n",
    "    \n",
    "    if data.isnull().sum().sum() != 0:\n",
    "            def pass_value_barh(data):\n",
    "                try:\n",
    "                    (data.isna().mean()*100).to_frame() \\\n",
    "                    .rename(columns = {0:'space'}) \\\n",
    "                    .query('space > 0') \\\n",
    "                    .sort_values(by = 'space', ascending = True) \\\n",
    "                    .plot(kind = 'barh', figsize = (10, 3), legend = False, fontsize = 8, color='royalblue', \\\n",
    "                                   title ='Пропущенные значения, %', \\\n",
    "                                   xlabel = 'Процент пропусков', \\\n",
    "                                   ylabel='Столбцы с пропусками', \\\n",
    "                                   grid=True, style='-',)\n",
    "                    plt.show();    \n",
    "                except:\n",
    "                    print('\\u001b[38;5;19m', 'Пропусков данных нет')\n",
    "    else:\n",
    "        print('\\u001b[38;5;19m', 'Пропусков данных нет')"
   ]
  },
  {
   "cell_type": "code",
   "execution_count": 10,
   "metadata": {},
   "outputs": [
    {
     "name": "stdout",
     "output_type": "stream",
     "text": [
      "\u001b[38;5;19m ----------------------------------------------------------------------------------------------------\n"
     ]
    },
    {
     "data": {
      "text/html": [
       "<div>\n",
       "<style scoped>\n",
       "    .dataframe tbody tr th:only-of-type {\n",
       "        vertical-align: middle;\n",
       "    }\n",
       "\n",
       "    .dataframe tbody tr th {\n",
       "        vertical-align: top;\n",
       "    }\n",
       "\n",
       "    .dataframe thead th {\n",
       "        text-align: right;\n",
       "    }\n",
       "</style>\n",
       "<table border=\"1\" class=\"dataframe\">\n",
       "  <thead>\n",
       "    <tr style=\"text-align: right;\">\n",
       "      <th></th>\n",
       "      <th>text</th>\n",
       "      <th>toxic</th>\n",
       "    </tr>\n",
       "  </thead>\n",
       "  <tbody>\n",
       "    <tr>\n",
       "      <th>0</th>\n",
       "      <td>Explanation\\nWhy the edits made under my username Hardcore Metallica Fan were reverted? They weren't vandalisms, just closure on some GAs after I voted at New York Dolls FAC. And please don't remove the template from the talk page since I'm retired now.89.205.38.27</td>\n",
       "      <td>0</td>\n",
       "    </tr>\n",
       "    <tr>\n",
       "      <th>1</th>\n",
       "      <td>D'aww! He matches this background colour I'm seemingly stuck with. Thanks.  (talk) 21:51, January 11, 2016 (UTC)</td>\n",
       "      <td>0</td>\n",
       "    </tr>\n",
       "    <tr>\n",
       "      <th>2</th>\n",
       "      <td>Hey man, I'm really not trying to edit war. It's just that this guy is constantly removing relevant information and talking to me through edits instead of my talk page. He seems to care more about the formatting than the actual info.</td>\n",
       "      <td>0</td>\n",
       "    </tr>\n",
       "    <tr>\n",
       "      <th>3</th>\n",
       "      <td>\"\\nMore\\nI can't make any real suggestions on improvement - I wondered if the section statistics should be later on, or a subsection of \"\"types of accidents\"\"  -I think the references may need tidying so that they are all in the exact same format ie date format etc. I can do that later on, if no-one else does first - if you have any preferences for formatting style on references or want to do it yourself please let me know.\\n\\nThere appears to be a backlog on articles for review so I guess there may be a delay until a reviewer turns up. It's listed in the relevant form eg Wikipedia:Good_article_nominations#Transport  \"</td>\n",
       "      <td>0</td>\n",
       "    </tr>\n",
       "    <tr>\n",
       "      <th>4</th>\n",
       "      <td>You, sir, are my hero. Any chance you remember what page that's on?</td>\n",
       "      <td>0</td>\n",
       "    </tr>\n",
       "  </tbody>\n",
       "</table>\n",
       "</div>"
      ],
      "text/plain": [
       "                                                                                                                                                                                                                                                                                                                                                                                                                                                                                                                                                                                                                                                 text  \\\n",
       "0                                                                                                                                                                                                                                                                                                                                                                           Explanation\\nWhy the edits made under my username Hardcore Metallica Fan were reverted? They weren't vandalisms, just closure on some GAs after I voted at New York Dolls FAC. And please don't remove the template from the talk page since I'm retired now.89.205.38.27   \n",
       "1                                                                                                                                                                                                                                                                                                                                                                                                                                                                                                                                    D'aww! He matches this background colour I'm seemingly stuck with. Thanks.  (talk) 21:51, January 11, 2016 (UTC)   \n",
       "2                                                                                                                                                                                                                                                                                                                                                                                                           Hey man, I'm really not trying to edit war. It's just that this guy is constantly removing relevant information and talking to me through edits instead of my talk page. He seems to care more about the formatting than the actual info.   \n",
       "3  \"\\nMore\\nI can't make any real suggestions on improvement - I wondered if the section statistics should be later on, or a subsection of \"\"types of accidents\"\"  -I think the references may need tidying so that they are all in the exact same format ie date format etc. I can do that later on, if no-one else does first - if you have any preferences for formatting style on references or want to do it yourself please let me know.\\n\\nThere appears to be a backlog on articles for review so I guess there may be a delay until a reviewer turns up. It's listed in the relevant form eg Wikipedia:Good_article_nominations#Transport  \"   \n",
       "4                                                                                                                                                                                                                                                                                                                                                                                                                                                                                                                                                                                 You, sir, are my hero. Any chance you remember what page that's on?   \n",
       "\n",
       "   toxic  \n",
       "0      0  \n",
       "1      0  \n",
       "2      0  \n",
       "3      0  \n",
       "4      0  "
      ]
     },
     "metadata": {},
     "output_type": "display_data"
    },
    {
     "name": "stdout",
     "output_type": "stream",
     "text": [
      "\u001b[38;5;19m ----------------------------------------------------------------------------------------------------\n",
      "<class 'pandas.core.frame.DataFrame'>\n",
      "Index: 159292 entries, 0 to 159450\n",
      "Data columns (total 2 columns):\n",
      " #   Column  Non-Null Count   Dtype \n",
      "---  ------  --------------   ----- \n",
      " 0   text    159292 non-null  object\n",
      " 1   toxic   159292 non-null  int64 \n",
      "dtypes: int64(1), object(1)\n",
      "memory usage: 3.6+ MB\n",
      "\u001b[38;5;19m ----------------------------------------------------------------------------------------------------\n",
      "\u001b[38;5;19m Количество столбцов - 2, количество записей - 159292\n",
      "\u001b[38;5;19m Дубликаты записей не выявлены\n",
      "\u001b[38;5;19m Пропусков данных нет\n"
     ]
    }
   ],
   "source": [
    "df = pd.read_csv('C:\\\\Data_Science\\\\projects\\\\Toxic_Text_finder\\\\toxic_comments.csv', index_col=0)\n",
    "display_df_info(df)"
   ]
  },
  {
   "cell_type": "code",
   "execution_count": 11,
   "metadata": {},
   "outputs": [
    {
     "data": {
      "image/png": "[encoded data removed]",
      "text/plain": [
       "<Figure size 800x300 with 1 Axes>"
      ]
     },
     "metadata": {},
     "output_type": "display_data"
    },
    {
     "name": "stdout",
     "output_type": "stream",
     "text": [
      "\u001b[38;5;19m доля токсичных комментриев составляет - 10.2% всех комментариев датасета\n"
     ]
    }
   ],
   "source": [
    "df['toxic'].value_counts(normalize = (0,1))\\\n",
    "            .plot(kind = 'barh', figsize = (8, 3), legend = False, fontsize = 7, color='royalblue', \\\n",
    "                      title ='Доля токсичных и нетоксичных комментариев', \\\n",
    "                      xlabel = 'Процент комментариев', \\\n",
    "                      ylabel='Токсичные (1) / нетоксичные (0) \\nкомментарии', \\\n",
    "                      grid=True, style='--',)\n",
    "plt.show()\n",
    "print('\\u001b[38;5;19m', 'доля токсичных комментриев составляет - {:.1%} всех комментариев датасета'.format(len(df.query('toxic==1'))/len(df['toxic'])))"
   ]
  },
  {
   "cell_type": "code",
   "execution_count": 12,
   "metadata": {},
   "outputs": [
    {
     "data": {
      "image/png": "[encoded data removed]",
      "text/plain": [
       "<Figure size 300x300 with 1 Axes>"
      ]
     },
     "metadata": {},
     "output_type": "display_data"
    }
   ],
   "source": [
    "plt.figure(figsize=(3, 3))\n",
    "labels = ['Нетоксичные\\nкомментарии','токсичные\\nкомментарии']\n",
    "values = df['toxic'].value_counts(normalize=True)\n",
    "total = sum(values)\n",
    "colors = ['lightsteelblue', 'cornflowerblue']\n",
    "plt.pie(values, colors=colors, labels=labels, \\\n",
    "        wedgeprops={'linewidth':2.5, 'edgecolor':'whitesmoke'}, shadow=True, startangle=90, \\\n",
    "        textprops={'fontsize': 8, 'color': 'darkblue'})\n",
    "labels = [f\"{n} (share - {v/total:.1%})\" for n, v in zip(labels, values)]\n",
    "plt.legend(bbox_to_anchor = (0.1, 0.6, 0.2, 0.35),\n",
    "                loc = 'best', labels = labels, labelcolor ='darkblue',  fontsize=8)\n",
    "plt.title('Доля токсичных и нетоксичных комментариев', color='navy', fontsize = 10)\n",
    "plt.axis('equal')\n",
    "plt.show()"
   ]
  },
  {
   "cell_type": "code",
   "execution_count": 14,
   "metadata": {},
   "outputs": [
    {
     "name": "stdout",
     "output_type": "stream",
     "text": [
      "\u001b[38;5;19m Максимальная длина комментария 5000\n",
      "\u001b[38;5;19m Минимальная длина комментария 5\n",
      "\u001b[38;5;19m Средняя длина комментария 394\n"
     ]
    }
   ],
   "source": [
    "print('\\u001b[38;5;19m', 'Максимальная длина комментария', df['text'].str.len().max())\n",
    "print('\\u001b[38;5;19m', 'Минимальная длина комментария', df['text'].str.len().min())\n",
    "print('\\u001b[38;5;19m', 'Средняя длина комментария', round(df['text'].str.len().mean()))"
   ]
  },
  {
   "cell_type": "code",
   "execution_count": 18,
   "metadata": {},
   "outputs": [
    {
     "name": "stdout",
     "output_type": "stream",
     "text": [
      "\u001b[38;5;19m Средняя длина негативного комментария -  303\n",
      "\u001b[38;5;19m Средняя длина позитивного комментария -  404\n"
     ]
    }
   ],
   "source": [
    "df['text_len'] = df['text'].str.len()\n",
    "print('\\u001b[38;5;19m', 'Средняя длина негативного комментария - ', round(df.query('toxic == 1')['text_len'].mean()))\n",
    "print('\\u001b[38;5;19m', 'Средняя длина позитивного комментария - ', round(df.query('toxic == 0')['text_len'].mean()))"
   ]
  },
  {
   "cell_type": "code",
   "execution_count": 20,
   "metadata": {},
   "outputs": [
    {
     "data": {
      "image/png": "[encoded data removed]",
      "text/plain": [
       "<Figure size 1200x400 with 2 Axes>"
      ]
     },
     "metadata": {},
     "output_type": "display_data"
    }
   ],
   "source": [
    "plt.figure(figsize=(12, 4))\n",
    "plt.subplot(1, 2, 1)\n",
    "sns.histplot(data=df, x='text_len', hue='toxic', palette ={0: 'navy', 1: 'red'}, \\\n",
    "                 edgecolor = 'navy', \\\n",
    "                 stat='percent', common_norm=False, kde=True)\n",
    "toxic_mean_value = df.query('toxic == 1')['text_len'].mean()\n",
    "untoxic_mean_value = df.query('toxic == 0')['text_len'].mean()\n",
    "plt.axvline(toxic_mean_value, color='red', linestyle='--')\n",
    "plt.axvline(untoxic_mean_value, color='navy', linestyle='--')\n",
    "plt.title(f'Гистограмма распределения \\n длины комментария',  fontsize=12, color='navy')\n",
    "plt.xlabel('длина текста', fontsize=10, color='navy')\n",
    "plt.ylabel('доля комментариев, %', fontsize=10, color='navy')\n",
    "plt.yticks(fontsize=8, color='navy')\n",
    "plt.xlim(0, 1500)\n",
    "plt.xticks(fontsize=8, color='navy')\n",
    "plt.legend(['Toxic_len', 'Untoxic_len', 'Toxic_mean', 'Untoxic_mean'])\n",
    "\n",
    "plt.subplot(1, 2, 2)\n",
    "sns.boxplot(data=df, x='text_len', hue='toxic', \n",
    "                palette ={0: 'cornflowerblue', 1: 'salmon'}, fill=True, gap=.1, width=.75, \\\n",
    "                linecolor='navy')\n",
    "plt.title(f'Диаграмма размаха \\nдлины комментария',  fontsize=12, color='navy')\n",
    "plt.ylabel('токсичность', fontsize=10, color='navy')\n",
    "plt.xlabel('длина текста', fontsize=10, color='navy')\n",
    "plt.xticks(fontsize=8, color='navy')\n",
    "plt.show()"
   ]
  },
  {
   "cell_type": "markdown",
   "metadata": {},
   "source": [
    "<font color='Darkblue'><b><i>Резюме"
   ]
  },
  {
   "cell_type": "markdown",
   "metadata": {},
   "source": [
    "<Font color='navy'> Для анализа предоставлен один датасет 159,292 записей и 2 колонки: содержание комментария и его характер (токсичный или нетоксичный)</br>Данные несбалансированы: доля негативных коментариев составляет 10,2% всех комментариев</br>В данных присутствуют аномально длинные комментарии - 5000 знаков.</br>Средняя длина позитивного комментария (404 симовла) на 33,3% превышает среднюю длину негативного<br>Длина оновной части как положительных, так и отрицательных комментариев находится в переделах 1000 символов "
   ]
  },
  {
   "cell_type": "markdown",
   "metadata": {},
   "source": [
    "## Очистка и Лемматизация комментариев"
   ]
  },
  {
   "cell_type": "code",
   "execution_count": 25,
   "metadata": {},
   "outputs": [],
   "source": [
    "# создадим функцию по очистке текста\n",
    "def clear_text(txt):\n",
    "    clear_txt = re.sub(r\"[^'a-zA-Z ]\", ' ', txt).lower() \n",
    "    split_txt = clear_txt.split() \n",
    "    join_txt = \" \".join(split_txt)\n",
    "    return join_txt"
   ]
  },
  {
   "cell_type": "code",
   "execution_count": 27,
   "metadata": {},
   "outputs": [
    {
     "data": {
      "text/html": [
       "<div>\n",
       "<style scoped>\n",
       "    .dataframe tbody tr th:only-of-type {\n",
       "        vertical-align: middle;\n",
       "    }\n",
       "\n",
       "    .dataframe tbody tr th {\n",
       "        vertical-align: top;\n",
       "    }\n",
       "\n",
       "    .dataframe thead th {\n",
       "        text-align: right;\n",
       "    }\n",
       "</style>\n",
       "<table border=\"1\" class=\"dataframe\">\n",
       "  <thead>\n",
       "    <tr style=\"text-align: right;\">\n",
       "      <th></th>\n",
       "      <th>text</th>\n",
       "      <th>toxic</th>\n",
       "      <th>text_len</th>\n",
       "      <th>clear_text</th>\n",
       "    </tr>\n",
       "  </thead>\n",
       "  <tbody>\n",
       "    <tr>\n",
       "      <th>0</th>\n",
       "      <td>Explanation\\nWhy the edits made under my username Hardcore Metallica Fan were reverted? They weren't vandalisms, just closure on some GAs after I voted at New York Dolls FAC. And please don't remove the template from the talk page since I'm retired now.89.205.38.27</td>\n",
       "      <td>0</td>\n",
       "      <td>264</td>\n",
       "      <td>explanation why the edits made under my username hardcore metallica fan were reverted they weren't vandalisms just closure on some gas after i voted at new york dolls fac and please don't remove the template from the talk page since i'm retired now</td>\n",
       "    </tr>\n",
       "    <tr>\n",
       "      <th>1</th>\n",
       "      <td>D'aww! He matches this background colour I'm seemingly stuck with. Thanks.  (talk) 21:51, January 11, 2016 (UTC)</td>\n",
       "      <td>0</td>\n",
       "      <td>112</td>\n",
       "      <td>d'aww he matches this background colour i'm seemingly stuck with thanks talk january utc</td>\n",
       "    </tr>\n",
       "    <tr>\n",
       "      <th>2</th>\n",
       "      <td>Hey man, I'm really not trying to edit war. It's just that this guy is constantly removing relevant information and talking to me through edits instead of my talk page. He seems to care more about the formatting than the actual info.</td>\n",
       "      <td>0</td>\n",
       "      <td>233</td>\n",
       "      <td>hey man i'm really not trying to edit war it's just that this guy is constantly removing relevant information and talking to me through edits instead of my talk page he seems to care more about the formatting than the actual info</td>\n",
       "    </tr>\n",
       "    <tr>\n",
       "      <th>3</th>\n",
       "      <td>\"\\nMore\\nI can't make any real suggestions on improvement - I wondered if the section statistics should be later on, or a subsection of \"\"types of accidents\"\"  -I think the references may need tidying so that they are all in the exact same format ie date format etc. I can do that later on, if no-one else does first - if you have any preferences for formatting style on references or want to do it yourself please let me know.\\n\\nThere appears to be a backlog on articles for review so I guess there may be a delay until a reviewer turns up. It's listed in the relevant form eg Wikipedia:Good_article_nominations#Transport  \"</td>\n",
       "      <td>0</td>\n",
       "      <td>622</td>\n",
       "      <td>more i can't make any real suggestions on improvement i wondered if the section statistics should be later on or a subsection of types of accidents i think the references may need tidying so that they are all in the exact same format ie date format etc i can do that later on if no one else does first if you have any preferences for formatting style on references or want to do it yourself please let me know there appears to be a backlog on articles for review so i guess there may be a delay until a reviewer turns up it's listed in the relevant form eg wikipedia good article nominations transport</td>\n",
       "    </tr>\n",
       "    <tr>\n",
       "      <th>4</th>\n",
       "      <td>You, sir, are my hero. Any chance you remember what page that's on?</td>\n",
       "      <td>0</td>\n",
       "      <td>67</td>\n",
       "      <td>you sir are my hero any chance you remember what page that's on</td>\n",
       "    </tr>\n",
       "  </tbody>\n",
       "</table>\n",
       "</div>"
      ],
      "text/plain": [
       "                                                                                                                                                                                                                                                                                                                                                                                                                                                                                                                                                                                                                                                 text  \\\n",
       "0                                                                                                                                                                                                                                                                                                                                                                           Explanation\\nWhy the edits made under my username Hardcore Metallica Fan were reverted? They weren't vandalisms, just closure on some GAs after I voted at New York Dolls FAC. And please don't remove the template from the talk page since I'm retired now.89.205.38.27   \n",
       "1                                                                                                                                                                                                                                                                                                                                                                                                                                                                                                                                    D'aww! He matches this background colour I'm seemingly stuck with. Thanks.  (talk) 21:51, January 11, 2016 (UTC)   \n",
       "2                                                                                                                                                                                                                                                                                                                                                                                                           Hey man, I'm really not trying to edit war. It's just that this guy is constantly removing relevant information and talking to me through edits instead of my talk page. He seems to care more about the formatting than the actual info.   \n",
       "3  \"\\nMore\\nI can't make any real suggestions on improvement - I wondered if the section statistics should be later on, or a subsection of \"\"types of accidents\"\"  -I think the references may need tidying so that they are all in the exact same format ie date format etc. I can do that later on, if no-one else does first - if you have any preferences for formatting style on references or want to do it yourself please let me know.\\n\\nThere appears to be a backlog on articles for review so I guess there may be a delay until a reviewer turns up. It's listed in the relevant form eg Wikipedia:Good_article_nominations#Transport  \"   \n",
       "4                                                                                                                                                                                                                                                                                                                                                                                                                                                                                                                                                                                 You, sir, are my hero. Any chance you remember what page that's on?   \n",
       "\n",
       "   toxic  text_len  \\\n",
       "0      0       264   \n",
       "1      0       112   \n",
       "2      0       233   \n",
       "3      0       622   \n",
       "4      0        67   \n",
       "\n",
       "                                                                                                                                                                                                                                                                                                                                                                                                                                                                                                                                                                                                                  clear_text  \n",
       "0                                                                                                                                                                                                                                                                                                                                                                   explanation why the edits made under my username hardcore metallica fan were reverted they weren't vandalisms just closure on some gas after i voted at new york dolls fac and please don't remove the template from the talk page since i'm retired now  \n",
       "1                                                                                                                                                                                                                                                                                                                                                                                                                                                                                                                                   d'aww he matches this background colour i'm seemingly stuck with thanks talk january utc  \n",
       "2                                                                                                                                                                                                                                                                                                                                                                                      hey man i'm really not trying to edit war it's just that this guy is constantly removing relevant information and talking to me through edits instead of my talk page he seems to care more about the formatting than the actual info  \n",
       "3  more i can't make any real suggestions on improvement i wondered if the section statistics should be later on or a subsection of types of accidents i think the references may need tidying so that they are all in the exact same format ie date format etc i can do that later on if no one else does first if you have any preferences for formatting style on references or want to do it yourself please let me know there appears to be a backlog on articles for review so i guess there may be a delay until a reviewer turns up it's listed in the relevant form eg wikipedia good article nominations transport  \n",
       "4                                                                                                                                                                                                                                                                                                                                                                                                                                                                                                                                                            you sir are my hero any chance you remember what page that's on  "
      ]
     },
     "execution_count": 27,
     "metadata": {},
     "output_type": "execute_result"
    }
   ],
   "source": [
    "df['clear_text'] = df['text'].apply(clear_text)\n",
    "df.head()"
   ]
  },
  {
   "cell_type": "code",
   "execution_count": 28,
   "metadata": {},
   "outputs": [
    {
     "data": {
      "text/html": [
       "<div>\n",
       "<style scoped>\n",
       "    .dataframe tbody tr th:only-of-type {\n",
       "        vertical-align: middle;\n",
       "    }\n",
       "\n",
       "    .dataframe tbody tr th {\n",
       "        vertical-align: top;\n",
       "    }\n",
       "\n",
       "    .dataframe thead th {\n",
       "        text-align: right;\n",
       "    }\n",
       "</style>\n",
       "<table border=\"1\" class=\"dataframe\">\n",
       "  <thead>\n",
       "    <tr style=\"text-align: right;\">\n",
       "      <th></th>\n",
       "      <th>toxic</th>\n",
       "      <th>text_len</th>\n",
       "      <th>clear_txt_len</th>\n",
       "    </tr>\n",
       "  </thead>\n",
       "  <tbody>\n",
       "    <tr>\n",
       "      <th>count</th>\n",
       "      <td>159,292.00</td>\n",
       "      <td>159,292.00</td>\n",
       "      <td>159,292.00</td>\n",
       "    </tr>\n",
       "    <tr>\n",
       "      <th>mean</th>\n",
       "      <td>0.10</td>\n",
       "      <td>393.69</td>\n",
       "      <td>372.14</td>\n",
       "    </tr>\n",
       "    <tr>\n",
       "      <th>std</th>\n",
       "      <td>0.30</td>\n",
       "      <td>590.11</td>\n",
       "      <td>560.86</td>\n",
       "    </tr>\n",
       "    <tr>\n",
       "      <th>min</th>\n",
       "      <td>0.00</td>\n",
       "      <td>5.00</td>\n",
       "      <td>0.00</td>\n",
       "    </tr>\n",
       "    <tr>\n",
       "      <th>25%</th>\n",
       "      <td>0.00</td>\n",
       "      <td>95.00</td>\n",
       "      <td>88.00</td>\n",
       "    </tr>\n",
       "    <tr>\n",
       "      <th>50%</th>\n",
       "      <td>0.00</td>\n",
       "      <td>205.00</td>\n",
       "      <td>192.00</td>\n",
       "    </tr>\n",
       "    <tr>\n",
       "      <th>75%</th>\n",
       "      <td>0.00</td>\n",
       "      <td>435.00</td>\n",
       "      <td>413.00</td>\n",
       "    </tr>\n",
       "    <tr>\n",
       "      <th>max</th>\n",
       "      <td>1.00</td>\n",
       "      <td>5,000.00</td>\n",
       "      <td>5,000.00</td>\n",
       "    </tr>\n",
       "  </tbody>\n",
       "</table>\n",
       "</div>"
      ],
      "text/plain": [
       "           toxic   text_len  clear_txt_len\n",
       "count 159,292.00 159,292.00     159,292.00\n",
       "mean        0.10     393.69         372.14\n",
       "std         0.30     590.11         560.86\n",
       "min         0.00       5.00           0.00\n",
       "25%         0.00      95.00          88.00\n",
       "50%         0.00     205.00         192.00\n",
       "75%         0.00     435.00         413.00\n",
       "max         1.00   5,000.00       5,000.00"
      ]
     },
     "execution_count": 28,
     "metadata": {},
     "output_type": "execute_result"
    }
   ],
   "source": [
    "df['clear_txt_len'] = df['clear_text'].str.len()\n",
    "df.describe()"
   ]
  },
  {
   "cell_type": "code",
   "execution_count": 29,
   "metadata": {},
   "outputs": [
    {
     "name": "stdout",
     "output_type": "stream",
     "text": [
      "\u001b[38;5;19m В данных представлено 6043 комментария длиной свыше 1500 слов, что составляет 3.8% всех записей\n"
     ]
    }
   ],
   "source": [
    "ubnorm_txt = df.query('clear_txt_len > 1500')['clear_txt_len'].count()\n",
    "total = df['clear_text'].count()\n",
    "print('\\u001b[38;5;19m', 'В данных представлено {} комментария длиной свыше 1500 слов, что составляет {:.1%} всех записей'.format(ubnorm_txt, ubnorm_txt/total))"
   ]
  },
  {
   "cell_type": "markdown",
   "metadata": {},
   "source": [
    "<Font color='navy'><i>После очистки комментариев от символов длина немного сократилась, но все равно остались выбросы.</br>Для ускорения процессов обработки данных без потери в качестве исключим из датасета комментарии, длиной более 1500 символов"
   ]
  },
  {
   "cell_type": "code",
   "execution_count": 34,
   "metadata": {},
   "outputs": [
    {
     "name": "stdout",
     "output_type": "stream",
     "text": [
      "<class 'pandas.core.frame.DataFrame'>\n",
      "Index: 153249 entries, 0 to 159450\n",
      "Data columns (total 5 columns):\n",
      " #   Column         Non-Null Count   Dtype \n",
      "---  ------         --------------   ----- \n",
      " 0   text           153249 non-null  object\n",
      " 1   toxic          153249 non-null  int64 \n",
      " 2   text_len       153249 non-null  int64 \n",
      " 3   clear_text     153249 non-null  object\n",
      " 4   clear_txt_len  153249 non-null  int64 \n",
      "dtypes: int64(3), object(2)\n",
      "memory usage: 7.0+ MB\n"
     ]
    }
   ],
   "source": [
    "df = df.query('clear_txt_len <= 1500')\n",
    "df.info()"
   ]
  },
  {
   "cell_type": "code",
   "execution_count": 36,
   "metadata": {},
   "outputs": [],
   "source": [
    "# инициируем леммантайзер\n",
    "lemmatizer = WordNetLemmatizer()"
   ]
  },
  {
   "cell_type": "code",
   "execution_count": 38,
   "metadata": {},
   "outputs": [],
   "source": [
    "# сформируем функцию для очистки и лемматизации текста с помощью WordNetLemmatizer() \n",
    "def lemm_text(text):\n",
    "    words_list = nltk.word_tokenize(text)\n",
    "    lemmatized_txt = ' '.join([lemmatizer.lemmatize(w) for w in words_list])    \n",
    "    return lemmatized_txt"
   ]
  },
  {
   "cell_type": "code",
   "execution_count": 40,
   "metadata": {},
   "outputs": [
    {
     "data": {
      "application/vnd.jupyter.widget-view+json": {
       "model_id": "20189d23e21f41b184d30141dc2971a0",
       "version_major": 2,
       "version_minor": 0
      },
      "text/plain": [
       "  0%|          | 0/153249 [00:00<?, ?it/s]"
      ]
     },
     "metadata": {},
     "output_type": "display_data"
    },
    {
     "name": "stdout",
     "output_type": "stream",
     "text": [
      "\u001b[38;5;19m Время лемматизации - 182.15 секунд\n"
     ]
    }
   ],
   "source": [
    "tqdm.pandas()\n",
    "start = time.time()\n",
    "df['lemms_txt'] = df['clear_text'].progress_apply(lemm_text)\n",
    "end = time.time()\n",
    "print('\\u001b[38;5;19m', 'Время лемматизации - {} секунд'.format(round(end - start, 2)))"
   ]
  },
  {
   "cell_type": "code",
   "execution_count": 41,
   "metadata": {},
   "outputs": [
    {
     "data": {
      "text/html": [
       "<div>\n",
       "<style scoped>\n",
       "    .dataframe tbody tr th:only-of-type {\n",
       "        vertical-align: middle;\n",
       "    }\n",
       "\n",
       "    .dataframe tbody tr th {\n",
       "        vertical-align: top;\n",
       "    }\n",
       "\n",
       "    .dataframe thead th {\n",
       "        text-align: right;\n",
       "    }\n",
       "</style>\n",
       "<table border=\"1\" class=\"dataframe\">\n",
       "  <thead>\n",
       "    <tr style=\"text-align: right;\">\n",
       "      <th></th>\n",
       "      <th>toxic</th>\n",
       "      <th>text_len</th>\n",
       "      <th>clear_txt_len</th>\n",
       "      <th>lemm_txt_len</th>\n",
       "    </tr>\n",
       "  </thead>\n",
       "  <tbody>\n",
       "    <tr>\n",
       "      <th>count</th>\n",
       "      <td>153,249.00</td>\n",
       "      <td>153,249.00</td>\n",
       "      <td>153,249.00</td>\n",
       "      <td>153,249.00</td>\n",
       "    </tr>\n",
       "    <tr>\n",
       "      <th>mean</th>\n",
       "      <td>0.10</td>\n",
       "      <td>300.76</td>\n",
       "      <td>283.91</td>\n",
       "      <td>281.39</td>\n",
       "    </tr>\n",
       "    <tr>\n",
       "      <th>std</th>\n",
       "      <td>0.30</td>\n",
       "      <td>302.07</td>\n",
       "      <td>287.26</td>\n",
       "      <td>284.30</td>\n",
       "    </tr>\n",
       "    <tr>\n",
       "      <th>min</th>\n",
       "      <td>0.00</td>\n",
       "      <td>5.00</td>\n",
       "      <td>0.00</td>\n",
       "      <td>0.00</td>\n",
       "    </tr>\n",
       "    <tr>\n",
       "      <th>25%</th>\n",
       "      <td>0.00</td>\n",
       "      <td>92.00</td>\n",
       "      <td>85.00</td>\n",
       "      <td>84.00</td>\n",
       "    </tr>\n",
       "    <tr>\n",
       "      <th>50%</th>\n",
       "      <td>0.00</td>\n",
       "      <td>194.00</td>\n",
       "      <td>182.00</td>\n",
       "      <td>181.00</td>\n",
       "    </tr>\n",
       "    <tr>\n",
       "      <th>75%</th>\n",
       "      <td>0.00</td>\n",
       "      <td>393.00</td>\n",
       "      <td>373.00</td>\n",
       "      <td>369.00</td>\n",
       "    </tr>\n",
       "    <tr>\n",
       "      <th>max</th>\n",
       "      <td>1.00</td>\n",
       "      <td>4,970.00</td>\n",
       "      <td>1,500.00</td>\n",
       "      <td>1,496.00</td>\n",
       "    </tr>\n",
       "  </tbody>\n",
       "</table>\n",
       "</div>"
      ],
      "text/plain": [
       "           toxic   text_len  clear_txt_len  lemm_txt_len\n",
       "count 153,249.00 153,249.00     153,249.00    153,249.00\n",
       "mean        0.10     300.76         283.91        281.39\n",
       "std         0.30     302.07         287.26        284.30\n",
       "min         0.00       5.00           0.00          0.00\n",
       "25%         0.00      92.00          85.00         84.00\n",
       "50%         0.00     194.00         182.00        181.00\n",
       "75%         0.00     393.00         373.00        369.00\n",
       "max         1.00   4,970.00       1,500.00      1,496.00"
      ]
     },
     "execution_count": 41,
     "metadata": {},
     "output_type": "execute_result"
    }
   ],
   "source": [
    "df['lemm_txt_len'] = df['lemms_txt'].str.len()\n",
    "df.describe()"
   ]
  },
  {
   "cell_type": "code",
   "execution_count": 44,
   "metadata": {},
   "outputs": [
    {
     "name": "stdout",
     "output_type": "stream",
     "text": [
      "<class 'pandas.core.frame.DataFrame'>\n",
      "Index: 153249 entries, 0 to 159450\n",
      "Data columns (total 7 columns):\n",
      " #   Column         Non-Null Count   Dtype \n",
      "---  ------         --------------   ----- \n",
      " 0   text           153249 non-null  object\n",
      " 1   toxic          153249 non-null  int64 \n",
      " 2   text_len       153249 non-null  int64 \n",
      " 3   clear_text     153249 non-null  object\n",
      " 4   clear_txt_len  153249 non-null  int64 \n",
      " 5   lemms_txt      153249 non-null  object\n",
      " 6   lemm_txt_len   153249 non-null  int64 \n",
      "dtypes: int64(4), object(3)\n",
      "memory usage: 9.4+ MB\n"
     ]
    }
   ],
   "source": [
    "df.info()"
   ]
  },
  {
   "cell_type": "code",
   "execution_count": 46,
   "metadata": {},
   "outputs": [
    {
     "data": {
      "application/vnd.jupyter.widget-view+json": {
       "model_id": "55d3d6529d9348d4b4096a6d6e4188c6",
       "version_major": 2,
       "version_minor": 0
      },
      "text/plain": [
       "Лемматизация комментариев:   0%|          | 0/153249 [00:00<?, ?it/s]"
      ]
     },
     "metadata": {},
     "output_type": "display_data"
    },
    {
     "name": "stdout",
     "output_type": "stream",
     "text": [
      "\u001b[38;5;19m Время лемматизации SCAPY - 1475.9 секунд\n"
     ]
    }
   ],
   "source": [
    "comments = df['clear_text'].tolist()\n",
    "\n",
    "lemmatized_text = []\n",
    "# Лемматизируем текст с помощью Scapy\n",
    "# Использование nlp.pipe для пакетной обработки с отображением прогресса\n",
    "# \"ner\", \"parser\" Отключает компоненты распознавания именованных сущностей и парсинга, т.к. нам нужны только леммы, и ускоряет обработку\n",
    "start = time.time()\n",
    "for doc in tqdm(nlp.pipe(comments, disable=[\"ner\", \"parser\"]), total=len(comments), desc=\"Лемматизация комментариев\"):\n",
    "    lemmas = [token.lemma_ for token in doc]\n",
    "    lemmatized_comment = ' '.join(lemmas)\n",
    "    lemmatized_text.append(lemmatized_comment)\n",
    "end = time.time()\n",
    "print('\\u001b[38;5;19m', 'Время лемматизации SCAPY - {} секунд'.format(round(end - start, 2)))\n",
    "\n",
    "df['lemms'] = lemmatized_text"
   ]
  },
  {
   "cell_type": "code",
   "execution_count": 47,
   "metadata": {},
   "outputs": [
    {
     "data": {
      "text/html": [
       "<div>\n",
       "<style scoped>\n",
       "    .dataframe tbody tr th:only-of-type {\n",
       "        vertical-align: middle;\n",
       "    }\n",
       "\n",
       "    .dataframe tbody tr th {\n",
       "        vertical-align: top;\n",
       "    }\n",
       "\n",
       "    .dataframe thead th {\n",
       "        text-align: right;\n",
       "    }\n",
       "</style>\n",
       "<table border=\"1\" class=\"dataframe\">\n",
       "  <thead>\n",
       "    <tr style=\"text-align: right;\">\n",
       "      <th></th>\n",
       "      <th>toxic</th>\n",
       "      <th>text_len</th>\n",
       "      <th>clear_txt_len</th>\n",
       "      <th>lemm_txt_len</th>\n",
       "      <th>lemms_len</th>\n",
       "    </tr>\n",
       "  </thead>\n",
       "  <tbody>\n",
       "    <tr>\n",
       "      <th>count</th>\n",
       "      <td>153,249.00</td>\n",
       "      <td>153,249.00</td>\n",
       "      <td>153,249.00</td>\n",
       "      <td>153,249.00</td>\n",
       "      <td>153,249.00</td>\n",
       "    </tr>\n",
       "    <tr>\n",
       "      <th>mean</th>\n",
       "      <td>0.10</td>\n",
       "      <td>300.76</td>\n",
       "      <td>283.91</td>\n",
       "      <td>281.39</td>\n",
       "      <td>275.25</td>\n",
       "    </tr>\n",
       "    <tr>\n",
       "      <th>std</th>\n",
       "      <td>0.30</td>\n",
       "      <td>302.07</td>\n",
       "      <td>287.26</td>\n",
       "      <td>284.30</td>\n",
       "      <td>278.31</td>\n",
       "    </tr>\n",
       "    <tr>\n",
       "      <th>min</th>\n",
       "      <td>0.00</td>\n",
       "      <td>5.00</td>\n",
       "      <td>0.00</td>\n",
       "      <td>0.00</td>\n",
       "      <td>0.00</td>\n",
       "    </tr>\n",
       "    <tr>\n",
       "      <th>25%</th>\n",
       "      <td>0.00</td>\n",
       "      <td>92.00</td>\n",
       "      <td>85.00</td>\n",
       "      <td>84.00</td>\n",
       "      <td>82.00</td>\n",
       "    </tr>\n",
       "    <tr>\n",
       "      <th>50%</th>\n",
       "      <td>0.00</td>\n",
       "      <td>194.00</td>\n",
       "      <td>182.00</td>\n",
       "      <td>181.00</td>\n",
       "      <td>177.00</td>\n",
       "    </tr>\n",
       "    <tr>\n",
       "      <th>75%</th>\n",
       "      <td>0.00</td>\n",
       "      <td>393.00</td>\n",
       "      <td>373.00</td>\n",
       "      <td>369.00</td>\n",
       "      <td>361.00</td>\n",
       "    </tr>\n",
       "    <tr>\n",
       "      <th>max</th>\n",
       "      <td>1.00</td>\n",
       "      <td>4,970.00</td>\n",
       "      <td>1,500.00</td>\n",
       "      <td>1,496.00</td>\n",
       "      <td>1,529.00</td>\n",
       "    </tr>\n",
       "  </tbody>\n",
       "</table>\n",
       "</div>"
      ],
      "text/plain": [
       "           toxic   text_len  clear_txt_len  lemm_txt_len  lemms_len\n",
       "count 153,249.00 153,249.00     153,249.00    153,249.00 153,249.00\n",
       "mean        0.10     300.76         283.91        281.39     275.25\n",
       "std         0.30     302.07         287.26        284.30     278.31\n",
       "min         0.00       5.00           0.00          0.00       0.00\n",
       "25%         0.00      92.00          85.00         84.00      82.00\n",
       "50%         0.00     194.00         182.00        181.00     177.00\n",
       "75%         0.00     393.00         373.00        369.00     361.00\n",
       "max         1.00   4,970.00       1,500.00      1,496.00   1,529.00"
      ]
     },
     "execution_count": 47,
     "metadata": {},
     "output_type": "execute_result"
    }
   ],
   "source": [
    "df['lemms_len'] = df['lemms'].str.len()\n",
    "df.describe()"
   ]
  },
  {
   "cell_type": "code",
   "execution_count": 48,
   "metadata": {},
   "outputs": [
    {
     "name": "stdout",
     "output_type": "stream",
     "text": [
      "<class 'pandas.core.frame.DataFrame'>\n",
      "Index: 153249 entries, 0 to 159450\n",
      "Data columns (total 9 columns):\n",
      " #   Column         Non-Null Count   Dtype \n",
      "---  ------         --------------   ----- \n",
      " 0   text           153249 non-null  object\n",
      " 1   toxic          153249 non-null  int64 \n",
      " 2   text_len       153249 non-null  int64 \n",
      " 3   clear_text     153249 non-null  object\n",
      " 4   clear_txt_len  153249 non-null  int64 \n",
      " 5   lemms_txt      153249 non-null  object\n",
      " 6   lemm_txt_len   153249 non-null  int64 \n",
      " 7   lemms          153249 non-null  object\n",
      " 8   lemms_len      153249 non-null  int64 \n",
      "dtypes: int64(5), object(4)\n",
      "memory usage: 11.7+ MB\n"
     ]
    }
   ],
   "source": [
    "df.info()"
   ]
  },
  {
   "cell_type": "markdown",
   "metadata": {},
   "source": [
    "<Font color='navy'><i><b>Резюме"
   ]
  },
  {
   "cell_type": "markdown",
   "metadata": {},
   "source": [
    "<Font color='navy'>В результате очистки и лемматизации комментариев, а также удаления аномально-длинных комментариев<br>- сформированы токены, пригодные для дальнейшей векторизации<br>- выявлен дисбаланс классов (негативных и позитиных комментраиев), который необходимо учесть при формировании выборок для построения модели"
   ]
  },
  {
   "cell_type": "markdown",
   "metadata": {},
   "source": [
    "## Построение модели распознавания текстов"
   ]
  },
  {
   "cell_type": "markdown",
   "metadata": {},
   "source": [
    "### Формирование выборок"
   ]
  },
  {
   "cell_type": "code",
   "execution_count": 53,
   "metadata": {},
   "outputs": [
    {
     "name": "stdout",
     "output_type": "stream",
     "text": [
      "<class 'pandas.core.frame.DataFrame'>\n",
      "Index: 153249 entries, 0 to 159450\n",
      "Data columns (total 2 columns):\n",
      " #   Column  Non-Null Count   Dtype \n",
      "---  ------  --------------   ----- \n",
      " 0   toxic   153249 non-null  int64 \n",
      " 1   lemms   153249 non-null  object\n",
      "dtypes: int64(1), object(1)\n",
      "memory usage: 3.5+ MB\n"
     ]
    }
   ],
   "source": [
    "data = df.drop(columns=['text',\n",
    "                         'text_len',\n",
    "                         'clear_text',\n",
    "                         'clear_txt_len',\n",
    "                         'lemms_txt',\n",
    "                         'lemm_txt_len',\n",
    "                         'lemms_len'], axis=1)\n",
    "data.info()"
   ]
  },
  {
   "cell_type": "code",
   "execution_count": 54,
   "metadata": {},
   "outputs": [],
   "source": [
    "y = data['toxic']\n",
    "X = data[['lemms']]\n",
    "X['lemms'] = X['lemms'].fillna('')\n",
    "\n",
    "# из-за дисбаланса разбивку на выборки осуществим с использованием стратификации по целевому признаку\n",
    "\n",
    "# сформируем тренировочную, валидационную и тестовую выборку из сокращенного датасета\n",
    "X_train, X_test_valid, y_train, y_test_valid = train_test_split(X, y, \\\n",
    "                                                        test_size=0.4, \\\n",
    "                                                        stratify = y, \\\n",
    "                                                        random_state=RANDOM_STATE)\n",
    "X_test, X_valid, y_test, y_valid = train_test_split(X_test_valid, y_test_valid, \\\n",
    "                                                    test_size= 0.5, \\\n",
    "                                                    stratify = y_test_valid, \\\n",
    "                                                    random_state=RANDOM_STATE)"
   ]
  },
  {
   "cell_type": "code",
   "execution_count": 55,
   "metadata": {},
   "outputs": [
    {
     "name": "stdout",
     "output_type": "stream",
     "text": [
      "\u001b[38;5;19m Размер тренировочной выборки: (91949, 1)\n",
      "\u001b[38;5;19m Размер валидационной выборки: (30650, 1)\n",
      "\u001b[38;5;19m Размер тестовой выборки: (30650, 1)\n"
     ]
    }
   ],
   "source": [
    "print('\\u001b[38;5;19m', 'Размер тренировочной выборки:', X_train.shape)\n",
    "print('\\u001b[38;5;19m', 'Размер валидационной выборки:', X_valid.shape)\n",
    "print('\\u001b[38;5;19m', 'Размер тестовой выборки:', X_test.shape)"
   ]
  },
  {
   "cell_type": "code",
   "execution_count": 56,
   "metadata": {},
   "outputs": [
    {
     "name": "stdout",
     "output_type": "stream",
     "text": [
      "\u001b[38;5;19m Размер тренировочной выборки после семплирования: (136956, 1)\n"
     ]
    }
   ],
   "source": [
    "# для исключения фактора несбалансированности выборки применим метод RandomOverSampling для увеличения выборки \n",
    "# downsampling ведет к сокращению тренировочной выборки до размеров меньше тестовой и валидационной\n",
    "sampler = RandomOverSampler(random_state = RANDOM_STATE, sampling_strategy=0.66)\n",
    "X_train_resample, y_train_resample = sampler.fit_resample(X_train, y_train)\n",
    "print('\\u001b[38;5;19m', 'Размер тренировочной выборки после семплирования:', X_train_resample.shape)"
   ]
  },
  {
   "cell_type": "code",
   "execution_count": 57,
   "metadata": {},
   "outputs": [
    {
     "data": {
      "image/png": "[encoded data removed]",
      "text/plain": [
       "<Figure size 300x300 with 1 Axes>"
      ]
     },
     "metadata": {},
     "output_type": "display_data"
    }
   ],
   "source": [
    "# проверим сбалансрованность классов после семплирования\n",
    "plt.figure(figsize=(3, 3))\n",
    "labels = ['Нетоксичные\\nкомментарии','токсичные\\nкомментарии']\n",
    "values = y_train_resample.value_counts(normalize=True)\n",
    "total = sum(values)\n",
    "colors = ['lightsteelblue', 'cornflowerblue']\n",
    "plt.pie(values, colors=colors, labels=labels, \\\n",
    "        wedgeprops={'linewidth':2.5, 'edgecolor':'whitesmoke'}, shadow=True, startangle=90, \\\n",
    "        textprops={'fontsize': 8, 'color': 'darkblue'})\n",
    "labels = [f\"{n} (share - {v/total:.1%})\" for n, v in zip(labels, values)]\n",
    "plt.legend(bbox_to_anchor = (0.1, 0.6, 0.2, 0.35),\n",
    "                loc = 'best', labels = labels, labelcolor ='darkblue',  fontsize=8)\n",
    "plt.title('Доля токсичных и нетоксичных комментариев', color='navy', fontsize = 10)\n",
    "plt.axis('equal')\n",
    "plt.show()"
   ]
  },
  {
   "cell_type": "markdown",
   "metadata": {},
   "source": [
    "<Font color='navy'><i><b>Резюме"
   ]
  },
  {
   "cell_type": "markdown",
   "metadata": {},
   "source": [
    "<Font color='navy'>С учетом дисбаланса классов, тренировочная, валидационная и тестовая выборки сформированы пропорцией 60 х 20 х 20 с использованием стратификации по целевому признаку<br> Также, для избежания некорректной работы модели на несбаллансированной тренировочной выборке, проведена семплирование (upsampling), в результате которого размер тренировочной выборки увеличился до 136956 записей, а доля токсичных комментраиев увеличена до 40%"
   ]
  },
  {
   "cell_type": "markdown",
   "metadata": {},
   "source": [
    "### Векторизация комментраиев. Формирование признаков"
   ]
  },
  {
   "cell_type": "code",
   "execution_count": 61,
   "metadata": {},
   "outputs": [
    {
     "data": {
      "text/plain": [
       "(153249, 127360)"
      ]
     },
     "execution_count": 61,
     "metadata": {},
     "output_type": "execute_result"
    }
   ],
   "source": [
    "# создадим \"мешок\" слов ресемплированных лемм тестовой выборки\n",
    "count_vect = CountVectorizer(stop_words = STOP_WORDS)\n",
    "corpus = X['lemms']\n",
    "bow = count_vect.fit_transform(corpus)\n",
    "bow.shape"
   ]
  },
  {
   "cell_type": "markdown",
   "metadata": {},
   "source": [
    "<Font color='navy'><i> Таким образом мы видим, что в анализируемых данных 124,388 уникальных лемм"
   ]
  },
  {
   "cell_type": "markdown",
   "metadata": {},
   "source": [
    "<Font color='navy'><i>Воспользуемся TfidfVectorizer — для преобразования тескста в числовые векторы с помощью метода TF-IDF, который позволяет выделить наиболее важные слова в тексте. И таким образом сформируем признаки для модели машинного обучения<br>сформируем корпус текстов и векторизуем отедельно каждую выборку"
   ]
  },
  {
   "cell_type": "code",
   "execution_count": 64,
   "metadata": {},
   "outputs": [
    {
     "name": "stdout",
     "output_type": "stream",
     "text": [
      "\u001b[38;5;19m Размер тренировочной выборки признаков после семплирования:  (136956, 93716)\n",
      "\u001b[38;5;19m Размер тренировочной выборки признаков без семплирования:  (91949, 93716)\n",
      "\u001b[38;5;19m Размер валидационной выборки признаков:  (30650, 93716)\n",
      "\u001b[38;5;19m Размер тестовой выборки признаков:  (30650, 93716)\n"
     ]
    }
   ],
   "source": [
    "count_tf_idf = TfidfVectorizer(stop_words=STOP_WORDS)\n",
    "\n",
    "features_train_r = count_tf_idf.fit_transform(X_train_resample['lemms'])\n",
    "features_train = count_tf_idf.transform(X_train['lemms'])\n",
    "features_valid = count_tf_idf.transform(X_valid['lemms'])\n",
    "features_test = count_tf_idf.transform(X_test['lemms'])\n",
    "\n",
    "print('\\u001b[38;5;19m', 'Размер тренировочной выборки признаков после семплирования: ', features_train_r.shape)\n",
    "print('\\u001b[38;5;19m', 'Размер тренировочной выборки признаков без семплирования: ',features_train.shape)\n",
    "print('\\u001b[38;5;19m', 'Размер валидационной выборки признаков: ', features_valid.shape)\n",
    "print('\\u001b[38;5;19m', 'Размер тестовой выборки признаков: ', features_test.shape)"
   ]
  },
  {
   "cell_type": "code",
   "execution_count": 65,
   "metadata": {},
   "outputs": [
    {
     "name": "stdout",
     "output_type": "stream",
     "text": [
      "\u001b[38;5;19m Размер тренировочной выборки целевого признака после семплирования:  (136956,)\n",
      "\u001b[38;5;19m Размер тренировочной выборки целевого признака без семплирования:  (91949,)\n",
      "\u001b[38;5;19m Размер валидационной выборки целевого признака:  (30650,)\n",
      "\u001b[38;5;19m Размер тестовой выборки целевого признака:  (30650,)\n"
     ]
    }
   ],
   "source": [
    "target_train_r = y_train_resample\n",
    "target_train = y_train\n",
    "target_valid = y_valid\n",
    "target_test = y_test\n",
    "print('\\u001b[38;5;19m', 'Размер тренировочной выборки целевого признака после семплирования: ', target_train_r.shape)\n",
    "print('\\u001b[38;5;19m', 'Размер тренировочной выборки целевого признака без семплирования: ', target_train.shape)\n",
    "print('\\u001b[38;5;19m', 'Размер валидационной выборки целевого признака: ', target_valid.shape)\n",
    "print('\\u001b[38;5;19m', 'Размер тестовой выборки целевого признака: ', target_test.shape)"
   ]
  },
  {
   "cell_type": "markdown",
   "metadata": {},
   "source": [
    "### Обучение"
   ]
  },
  {
   "cell_type": "markdown",
   "metadata": {},
   "source": [
    "#### Обучение и выбор лучшей модели"
   ]
  },
  {
   "cell_type": "code",
   "execution_count": 68,
   "metadata": {},
   "outputs": [],
   "source": [
    "# напишем функцию для подбора параметров модели\n",
    "def best_model(model, parametrs, features, target):\n",
    "    model = model\n",
    "    params = parametrs\n",
    "    random_search = RandomizedSearchCV(model, params, scoring = 'f1', random_state=RANDOM_STATE, n_jobs = -1, verbose=False)\n",
    "    random_search.fit(features, target)\n",
    "    best_params = random_search.best_params_\n",
    "    best_score = random_search.best_score_\n",
    "    return best_params, best_score"
   ]
  },
  {
   "cell_type": "code",
   "execution_count": 69,
   "metadata": {},
   "outputs": [
    {
     "data": {
      "application/vnd.jupyter.widget-view+json": {
       "model_id": "909808fff67743bf8695da848dbe1073",
       "version_major": 2,
       "version_minor": 0
      },
      "text/plain": [
       "Обучение моделей:   0%|          | 0/2 [00:00<?, ?it/s]"
      ]
     },
     "metadata": {},
     "output_type": "display_data"
    },
    {
     "name": "stdout",
     "output_type": "stream",
     "text": [
      "\u001b[34;5;1m на несбалансированных данных для модели DecisionTreeClassifier(class_weight='balanced', random_state=77)\n",
      "\u001b[38;5;19m - лучшие параметры {'min_samples_split': 14, 'min_samples_leaf': 3, 'max_features': 13, 'max_depth': 14} \n",
      " - метрика f1 - 0.188\n",
      "\u001b[38;5;19m --------------------------------------------------\n",
      "\u001b[34;5;1m на сбалансированных данных для модели DecisionTreeClassifier(class_weight='balanced', random_state=77)\n",
      "\u001b[38;5;19m - лучшие параметры {'min_samples_split': 14, 'min_samples_leaf': 3, 'max_features': 13, 'max_depth': 14} \n",
      " - метрика f1 - 0.571\n",
      "\u001b[38;5;19m --------------------------------------------------\n"
     ]
    },
    {
     "data": {
      "application/vnd.jupyter.widget-view+json": {
       "model_id": "f08349e5334041ae96c9e039b9cf85d7",
       "version_major": 2,
       "version_minor": 0
      },
      "text/plain": [
       "Обучение моделей:   0%|          | 0/2 [00:00<?, ?it/s]"
      ]
     },
     "metadata": {},
     "output_type": "display_data"
    },
    {
     "name": "stdout",
     "output_type": "stream",
     "text": [
      "\u001b[34;5;1m на несбалансированных данных для модели LogisticRegression(class_weight='balanced', random_state=77)\n",
      "\u001b[38;5;19m - лучшие параметры {'solver': 'liblinear', 'penalty': 'l2', 'max_iter': 100, 'C': 53.09838489348562} \n",
      " - метрика f1 - 0.754\n",
      "\u001b[38;5;19m --------------------------------------------------\n",
      "\u001b[34;5;1m на сбалансированных данных для модели LogisticRegression(class_weight='balanced', random_state=77)\n",
      "\u001b[38;5;19m - лучшие параметры {'solver': 'liblinear', 'penalty': 'l2', 'max_iter': 100, 'C': 53.09838489348562} \n",
      " - метрика f1 - 0.974\n",
      "\u001b[38;5;19m --------------------------------------------------\n"
     ]
    }
   ],
   "source": [
    "# в цикле переберем модели, их гиперпараметры и сбалансированный/несбалансированный тренировочные датасеты\n",
    "models = [DecisionTreeClassifier(random_state=RANDOM_STATE, class_weight='balanced'), \\\n",
    "          LogisticRegression(random_state=RANDOM_STATE, class_weight='balanced')]\n",
    "model_params  = [ \n",
    "         {'max_depth': range(2, 15),\n",
    "         'max_features': range(2, 15),\n",
    "         'min_samples_split': range(1, 20),\n",
    "         'min_samples_leaf': range(1, 15)},\n",
    "    \n",
    "        {'penalty':['l1','l2','elasticnet','none'],\n",
    "        'C' : np.logspace(np.log(5), np.log(15), 20),\n",
    "        'solver': ['lbfgs','newton-cg','liblinear','sag','saga'],\n",
    "        'max_iter'  : [100,1000,2500,5000]}]\n",
    "#data_mass = [['несбалансированных данных', features_train, target_train], ['сбалансированных данных', features_train_r, target_train_r]]\n",
    "data_mass = [['несбалансированных данных', features_train, target_train], ['сбалансированных данных', features_train_r, target_train_r]]\n",
    "for model, parametr in zip(models, model_params):\n",
    "    for i in tqdm(range(2), desc=\"Обучение моделей\"):\n",
    "        best_params, best_score =  best_model(model, parametr, data_mass[i][1], data_mass[i][2])\n",
    "        print('\\u001b[34;5;1m', 'на {} для модели {}'.format(data_mass[i][0], model))\n",
    "        print('\\u001b[38;5;19m', '- лучшие параметры {} \\n - метрика f1 - {}'.format(best_params, round(best_score, 3)))\n",
    "        print('\\u001b[38;5;19m', '--'*25)"
   ]
  },
  {
   "cell_type": "markdown",
   "metadata": {},
   "source": [
    "<Font color='navy'><i> Перебор моделей без градиентного бутсинга показал, что наилучшей моделью является модель LogisticRegression с гиперпараметрами {'solver': 'lbfgs', 'penalty': 'l2', 'max_iter': 1000, 'C': 3792.690190732246}, обученной на сбалансированных методом RandomOverSample тренировочной выборки"
   ]
  },
  {
   "cell_type": "code",
   "execution_count": 71,
   "metadata": {},
   "outputs": [
    {
     "name": "stdout",
     "output_type": "stream",
     "text": [
      "\u001b[34;5;1m Метрика F1 для лушей модели без градиентного бутсинга LogisticRegression на валидационной выборке составляет 0.764\n"
     ]
    }
   ],
   "source": [
    "# рассчитаем метрику F1 лучшей модели на валидационной выборке\n",
    "best_model = LogisticRegression(class_weight='balanced', \\\n",
    "                                random_state=RANDOM_STATE, \\\n",
    "                                 solver = 'liblinear', \\\n",
    "                                 penalty ='l2', \\\n",
    "                                 max_iter = 2500, \\\n",
    "                                 C = 4.281332398719396)\n",
    "best_model.fit(features_train_r, target_train_r)\n",
    "target_predict_lr = best_model.predict(features_valid)\n",
    "print('\\u001b[34;5;1m', 'Метрика F1 для лушей модели без градиентного бутсинга LogisticRegression на валидационной выборке составляет {}'.format(round(f1_score(target_predict_lr, target_valid),3)))"
   ]
  },
  {
   "cell_type": "code",
   "execution_count": 72,
   "metadata": {},
   "outputs": [
    {
     "data": {
      "application/vnd.jupyter.widget-view+json": {
       "model_id": "7cc145950df4455b99cf787b6115d5d4",
       "version_major": 2,
       "version_minor": 0
      },
      "text/plain": [
       "MetricVisualizer(layout=Layout(align_self='stretch', height='500px'))"
      ]
     },
     "metadata": {},
     "output_type": "display_data"
    },
    {
     "name": "stdout",
     "output_type": "stream",
     "text": [
      "Learning rate set to 0.106818\n",
      "0:\tlearn: 0.5250448\ttest: 0.5263350\tbest: 0.5263350 (0)\ttotal: 4.9s\tremaining: 1h 21m 32s\n",
      "200:\tlearn: 0.8986070\ttest: 0.7789319\tbest: 0.7789319 (200)\ttotal: 11m 6s\tremaining: 44m 8s\n",
      "400:\tlearn: 0.9321089\ttest: 0.7887520\tbest: 0.7890460 (399)\ttotal: 24m 17s\tremaining: 36m 16s\n",
      "600:\tlearn: 0.9509407\ttest: 0.7931529\tbest: 0.7936887 (597)\ttotal: 33m 45s\tremaining: 22m 24s\n",
      "800:\tlearn: 0.9653087\ttest: 0.7970625\tbest: 0.7974845 (792)\ttotal: 43m 9s\tremaining: 10m 43s\n",
      "999:\tlearn: 0.9743403\ttest: 0.7970734\tbest: 0.7993391 (867)\ttotal: 52m 29s\tremaining: 0us\n",
      "\n",
      "bestTest = 0.7993390728\n",
      "bestIteration = 867\n",
      "\n",
      "Shrink model to first 868 iterations.\n"
     ]
    },
    {
     "data": {
      "text/plain": [
       "<catboost.core.CatBoostClassifier at 0x1cd09254830>"
      ]
     },
     "execution_count": 72,
     "metadata": {},
     "output_type": "execute_result"
    }
   ],
   "source": [
    "catboost_params = {'loss_function': 'Logloss',  \n",
    "                    'eval_metric': 'F1',  \n",
    "                    'verbose': 200,  \\\n",
    "                    'random_seed': RANDOM_STATE}\n",
    "model_catboost = CatBoostClassifier(**catboost_params, auto_class_weights='Balanced')\n",
    "model_catboost.fit(features_train_r, target_train_r, eval_set=(features_valid, target_valid), \\\n",
    "                   use_best_model=True,  early_stopping_rounds=1000, plot=True)"
   ]
  },
  {
   "cell_type": "code",
   "execution_count": 73,
   "metadata": {},
   "outputs": [
    {
     "name": "stdout",
     "output_type": "stream",
     "text": [
      "\u001b[34;5;1m Метрика F1 для CatBoost на валидационной выборке составляет 0.757\n"
     ]
    }
   ],
   "source": [
    "target_predict_cb = model_catboost.predict(features_valid)\n",
    "print('\\u001b[34;5;1m', 'Метрика F1 для CatBoost на валидационной выборке составляет {}'.format(round(f1_score(target_predict_cb, target_valid),3)))"
   ]
  },
  {
   "cell_type": "code",
   "execution_count": 74,
   "metadata": {},
   "outputs": [
    {
     "name": "stdout",
     "output_type": "stream",
     "text": [
      "[LightGBM] [Info] Number of positive: 54452, number of negative: 82504\n",
      "[LightGBM] [Info] Auto-choosing row-wise multi-threading, the overhead of testing was 12.540037 seconds.\n",
      "You can set `force_row_wise=true` to remove the overhead.\n",
      "And if memory is not enough, you can set `force_col_wise=true`.\n",
      "[LightGBM] [Info] Total Bins 412885\n",
      "[LightGBM] [Info] Number of data points in the train set: 136956, number of used features: 8762\n",
      "[LightGBM] [Info] [binary:BoostFromScore]: pavg=0.397588 -> initscore=-0.415527\n",
      "[LightGBM] [Info] Start training from score -0.415527\n"
     ]
    },
    {
     "data": {
      "text/html": [
       "<style>#sk-container-id-1 {\n",
       "  /* Definition of color scheme common for light and dark mode */\n",
       "  --sklearn-color-text: black;\n",
       "  --sklearn-color-line: gray;\n",
       "  /* Definition of color scheme for unfitted estimators */\n",
       "  --sklearn-color-unfitted-level-0: #fff5e6;\n",
       "  --sklearn-color-unfitted-level-1: #f6e4d2;\n",
       "  --sklearn-color-unfitted-level-2: #ffe0b3;\n",
       "  --sklearn-color-unfitted-level-3: chocolate;\n",
       "  /* Definition of color scheme for fitted estimators */\n",
       "  --sklearn-color-fitted-level-0: #f0f8ff;\n",
       "  --sklearn-color-fitted-level-1: #d4ebff;\n",
       "  --sklearn-color-fitted-level-2: #b3dbfd;\n",
       "  --sklearn-color-fitted-level-3: cornflowerblue;\n",
       "\n",
       "  /* Specific color for light theme */\n",
       "  --sklearn-color-text-on-default-background: var(--sg-text-color, var(--theme-code-foreground, var(--jp-content-font-color1, black)));\n",
       "  --sklearn-color-background: var(--sg-background-color, var(--theme-background, var(--jp-layout-color0, white)));\n",
       "  --sklearn-color-border-box: var(--sg-text-color, var(--theme-code-foreground, var(--jp-content-font-color1, black)));\n",
       "  --sklearn-color-icon: #696969;\n",
       "\n",
       "  @media (prefers-color-scheme: dark) {\n",
       "    /* Redefinition of color scheme for dark theme */\n",
       "    --sklearn-color-text-on-default-background: var(--sg-text-color, var(--theme-code-foreground, var(--jp-content-font-color1, white)));\n",
       "    --sklearn-color-background: var(--sg-background-color, var(--theme-background, var(--jp-layout-color0, #111)));\n",
       "    --sklearn-color-border-box: var(--sg-text-color, var(--theme-code-foreground, var(--jp-content-font-color1, white)));\n",
       "    --sklearn-color-icon: #878787;\n",
       "  }\n",
       "}\n",
       "\n",
       "#sk-container-id-1 {\n",
       "  color: var(--sklearn-color-text);\n",
       "}\n",
       "\n",
       "#sk-container-id-1 pre {\n",
       "  padding: 0;\n",
       "}\n",
       "\n",
       "#sk-container-id-1 input.sk-hidden--visually {\n",
       "  border: 0;\n",
       "  clip: rect(1px 1px 1px 1px);\n",
       "  clip: rect(1px, 1px, 1px, 1px);\n",
       "  height: 1px;\n",
       "  margin: -1px;\n",
       "  overflow: hidden;\n",
       "  padding: 0;\n",
       "  position: absolute;\n",
       "  width: 1px;\n",
       "}\n",
       "\n",
       "#sk-container-id-1 div.sk-dashed-wrapped {\n",
       "  border: 1px dashed var(--sklearn-color-line);\n",
       "  margin: 0 0.4em 0.5em 0.4em;\n",
       "  box-sizing: border-box;\n",
       "  padding-bottom: 0.4em;\n",
       "  background-color: var(--sklearn-color-background);\n",
       "}\n",
       "\n",
       "#sk-container-id-1 div.sk-container {\n",
       "  /* jupyter's `normalize.less` sets `[hidden] { display: none; }`\n",
       "     but bootstrap.min.css set `[hidden] { display: none !important; }`\n",
       "     so we also need the `!important` here to be able to override the\n",
       "     default hidden behavior on the sphinx rendered scikit-learn.org.\n",
       "     See: https://github.com/scikit-learn/scikit-learn/issues/21755 */\n",
       "  display: inline-block !important;\n",
       "  position: relative;\n",
       "}\n",
       "\n",
       "#sk-container-id-1 div.sk-text-repr-fallback {\n",
       "  display: none;\n",
       "}\n",
       "\n",
       "div.sk-parallel-item,\n",
       "div.sk-serial,\n",
       "div.sk-item {\n",
       "  /* draw centered vertical line to link estimators */\n",
       "  background-image: linear-gradient(var(--sklearn-color-text-on-default-background), var(--sklearn-color-text-on-default-background));\n",
       "  background-size: 2px 100%;\n",
       "  background-repeat: no-repeat;\n",
       "  background-position: center center;\n",
       "}\n",
       "\n",
       "/* Parallel-specific style estimator block */\n",
       "\n",
       "#sk-container-id-1 div.sk-parallel-item::after {\n",
       "  content: \"\";\n",
       "  width: 100%;\n",
       "  border-bottom: 2px solid var(--sklearn-color-text-on-default-background);\n",
       "  flex-grow: 1;\n",
       "}\n",
       "\n",
       "#sk-container-id-1 div.sk-parallel {\n",
       "  display: flex;\n",
       "  align-items: stretch;\n",
       "  justify-content: center;\n",
       "  background-color: var(--sklearn-color-background);\n",
       "  position: relative;\n",
       "}\n",
       "\n",
       "#sk-container-id-1 div.sk-parallel-item {\n",
       "  display: flex;\n",
       "  flex-direction: column;\n",
       "}\n",
       "\n",
       "#sk-container-id-1 div.sk-parallel-item:first-child::after {\n",
       "  align-self: flex-end;\n",
       "  width: 50%;\n",
       "}\n",
       "\n",
       "#sk-container-id-1 div.sk-parallel-item:last-child::after {\n",
       "  align-self: flex-start;\n",
       "  width: 50%;\n",
       "}\n",
       "\n",
       "#sk-container-id-1 div.sk-parallel-item:only-child::after {\n",
       "  width: 0;\n",
       "}\n",
       "\n",
       "/* Serial-specific style estimator block */\n",
       "\n",
       "#sk-container-id-1 div.sk-serial {\n",
       "  display: flex;\n",
       "  flex-direction: column;\n",
       "  align-items: center;\n",
       "  background-color: var(--sklearn-color-background);\n",
       "  padding-right: 1em;\n",
       "  padding-left: 1em;\n",
       "}\n",
       "\n",
       "\n",
       "/* Toggleable style: style used for estimator/Pipeline/ColumnTransformer box that is\n",
       "clickable and can be expanded/collapsed.\n",
       "- Pipeline and ColumnTransformer use this feature and define the default style\n",
       "- Estimators will overwrite some part of the style using the `sk-estimator` class\n",
       "*/\n",
       "\n",
       "/* Pipeline and ColumnTransformer style (default) */\n",
       "\n",
       "#sk-container-id-1 div.sk-toggleable {\n",
       "  /* Default theme specific background. It is overwritten whether we have a\n",
       "  specific estimator or a Pipeline/ColumnTransformer */\n",
       "  background-color: var(--sklearn-color-background);\n",
       "}\n",
       "\n",
       "/* Toggleable label */\n",
       "#sk-container-id-1 label.sk-toggleable__label {\n",
       "  cursor: pointer;\n",
       "  display: block;\n",
       "  width: 100%;\n",
       "  margin-bottom: 0;\n",
       "  padding: 0.5em;\n",
       "  box-sizing: border-box;\n",
       "  text-align: center;\n",
       "}\n",
       "\n",
       "#sk-container-id-1 label.sk-toggleable__label-arrow:before {\n",
       "  /* Arrow on the left of the label */\n",
       "  content: \"▸\";\n",
       "  float: left;\n",
       "  margin-right: 0.25em;\n",
       "  color: var(--sklearn-color-icon);\n",
       "}\n",
       "\n",
       "#sk-container-id-1 label.sk-toggleable__label-arrow:hover:before {\n",
       "  color: var(--sklearn-color-text);\n",
       "}\n",
       "\n",
       "/* Toggleable content - dropdown */\n",
       "\n",
       "#sk-container-id-1 div.sk-toggleable__content {\n",
       "  max-height: 0;\n",
       "  max-width: 0;\n",
       "  overflow: hidden;\n",
       "  text-align: left;\n",
       "  /* unfitted */\n",
       "  background-color: var(--sklearn-color-unfitted-level-0);\n",
       "}\n",
       "\n",
       "#sk-container-id-1 div.sk-toggleable__content.fitted {\n",
       "  /* fitted */\n",
       "  background-color: var(--sklearn-color-fitted-level-0);\n",
       "}\n",
       "\n",
       "#sk-container-id-1 div.sk-toggleable__content pre {\n",
       "  margin: 0.2em;\n",
       "  border-radius: 0.25em;\n",
       "  color: var(--sklearn-color-text);\n",
       "  /* unfitted */\n",
       "  background-color: var(--sklearn-color-unfitted-level-0);\n",
       "}\n",
       "\n",
       "#sk-container-id-1 div.sk-toggleable__content.fitted pre {\n",
       "  /* unfitted */\n",
       "  background-color: var(--sklearn-color-fitted-level-0);\n",
       "}\n",
       "\n",
       "#sk-container-id-1 input.sk-toggleable__control:checked~div.sk-toggleable__content {\n",
       "  /* Expand drop-down */\n",
       "  max-height: 200px;\n",
       "  max-width: 100%;\n",
       "  overflow: auto;\n",
       "}\n",
       "\n",
       "#sk-container-id-1 input.sk-toggleable__control:checked~label.sk-toggleable__label-arrow:before {\n",
       "  content: \"▾\";\n",
       "}\n",
       "\n",
       "/* Pipeline/ColumnTransformer-specific style */\n",
       "\n",
       "#sk-container-id-1 div.sk-label input.sk-toggleable__control:checked~label.sk-toggleable__label {\n",
       "  color: var(--sklearn-color-text);\n",
       "  background-color: var(--sklearn-color-unfitted-level-2);\n",
       "}\n",
       "\n",
       "#sk-container-id-1 div.sk-label.fitted input.sk-toggleable__control:checked~label.sk-toggleable__label {\n",
       "  background-color: var(--sklearn-color-fitted-level-2);\n",
       "}\n",
       "\n",
       "/* Estimator-specific style */\n",
       "\n",
       "/* Colorize estimator box */\n",
       "#sk-container-id-1 div.sk-estimator input.sk-toggleable__control:checked~label.sk-toggleable__label {\n",
       "  /* unfitted */\n",
       "  background-color: var(--sklearn-color-unfitted-level-2);\n",
       "}\n",
       "\n",
       "#sk-container-id-1 div.sk-estimator.fitted input.sk-toggleable__control:checked~label.sk-toggleable__label {\n",
       "  /* fitted */\n",
       "  background-color: var(--sklearn-color-fitted-level-2);\n",
       "}\n",
       "\n",
       "#sk-container-id-1 div.sk-label label.sk-toggleable__label,\n",
       "#sk-container-id-1 div.sk-label label {\n",
       "  /* The background is the default theme color */\n",
       "  color: var(--sklearn-color-text-on-default-background);\n",
       "}\n",
       "\n",
       "/* On hover, darken the color of the background */\n",
       "#sk-container-id-1 div.sk-label:hover label.sk-toggleable__label {\n",
       "  color: var(--sklearn-color-text);\n",
       "  background-color: var(--sklearn-color-unfitted-level-2);\n",
       "}\n",
       "\n",
       "/* Label box, darken color on hover, fitted */\n",
       "#sk-container-id-1 div.sk-label.fitted:hover label.sk-toggleable__label.fitted {\n",
       "  color: var(--sklearn-color-text);\n",
       "  background-color: var(--sklearn-color-fitted-level-2);\n",
       "}\n",
       "\n",
       "/* Estimator label */\n",
       "\n",
       "#sk-container-id-1 div.sk-label label {\n",
       "  font-family: monospace;\n",
       "  font-weight: bold;\n",
       "  display: inline-block;\n",
       "  line-height: 1.2em;\n",
       "}\n",
       "\n",
       "#sk-container-id-1 div.sk-label-container {\n",
       "  text-align: center;\n",
       "}\n",
       "\n",
       "/* Estimator-specific */\n",
       "#sk-container-id-1 div.sk-estimator {\n",
       "  font-family: monospace;\n",
       "  border: 1px dotted var(--sklearn-color-border-box);\n",
       "  border-radius: 0.25em;\n",
       "  box-sizing: border-box;\n",
       "  margin-bottom: 0.5em;\n",
       "  /* unfitted */\n",
       "  background-color: var(--sklearn-color-unfitted-level-0);\n",
       "}\n",
       "\n",
       "#sk-container-id-1 div.sk-estimator.fitted {\n",
       "  /* fitted */\n",
       "  background-color: var(--sklearn-color-fitted-level-0);\n",
       "}\n",
       "\n",
       "/* on hover */\n",
       "#sk-container-id-1 div.sk-estimator:hover {\n",
       "  /* unfitted */\n",
       "  background-color: var(--sklearn-color-unfitted-level-2);\n",
       "}\n",
       "\n",
       "#sk-container-id-1 div.sk-estimator.fitted:hover {\n",
       "  /* fitted */\n",
       "  background-color: var(--sklearn-color-fitted-level-2);\n",
       "}\n",
       "\n",
       "/* Specification for estimator info (e.g. \"i\" and \"?\") */\n",
       "\n",
       "/* Common style for \"i\" and \"?\" */\n",
       "\n",
       ".sk-estimator-doc-link,\n",
       "a:link.sk-estimator-doc-link,\n",
       "a:visited.sk-estimator-doc-link {\n",
       "  float: right;\n",
       "  font-size: smaller;\n",
       "  line-height: 1em;\n",
       "  font-family: monospace;\n",
       "  background-color: var(--sklearn-color-background);\n",
       "  border-radius: 1em;\n",
       "  height: 1em;\n",
       "  width: 1em;\n",
       "  text-decoration: none !important;\n",
       "  margin-left: 1ex;\n",
       "  /* unfitted */\n",
       "  border: var(--sklearn-color-unfitted-level-1) 1pt solid;\n",
       "  color: var(--sklearn-color-unfitted-level-1);\n",
       "}\n",
       "\n",
       ".sk-estimator-doc-link.fitted,\n",
       "a:link.sk-estimator-doc-link.fitted,\n",
       "a:visited.sk-estimator-doc-link.fitted {\n",
       "  /* fitted */\n",
       "  border: var(--sklearn-color-fitted-level-1) 1pt solid;\n",
       "  color: var(--sklearn-color-fitted-level-1);\n",
       "}\n",
       "\n",
       "/* On hover */\n",
       "div.sk-estimator:hover .sk-estimator-doc-link:hover,\n",
       ".sk-estimator-doc-link:hover,\n",
       "div.sk-label-container:hover .sk-estimator-doc-link:hover,\n",
       ".sk-estimator-doc-link:hover {\n",
       "  /* unfitted */\n",
       "  background-color: var(--sklearn-color-unfitted-level-3);\n",
       "  color: var(--sklearn-color-background);\n",
       "  text-decoration: none;\n",
       "}\n",
       "\n",
       "div.sk-estimator.fitted:hover .sk-estimator-doc-link.fitted:hover,\n",
       ".sk-estimator-doc-link.fitted:hover,\n",
       "div.sk-label-container:hover .sk-estimator-doc-link.fitted:hover,\n",
       ".sk-estimator-doc-link.fitted:hover {\n",
       "  /* fitted */\n",
       "  background-color: var(--sklearn-color-fitted-level-3);\n",
       "  color: var(--sklearn-color-background);\n",
       "  text-decoration: none;\n",
       "}\n",
       "\n",
       "/* Span, style for the box shown on hovering the info icon */\n",
       ".sk-estimator-doc-link span {\n",
       "  display: none;\n",
       "  z-index: 9999;\n",
       "  position: relative;\n",
       "  font-weight: normal;\n",
       "  right: .2ex;\n",
       "  padding: .5ex;\n",
       "  margin: .5ex;\n",
       "  width: min-content;\n",
       "  min-width: 20ex;\n",
       "  max-width: 50ex;\n",
       "  color: var(--sklearn-color-text);\n",
       "  box-shadow: 2pt 2pt 4pt #999;\n",
       "  /* unfitted */\n",
       "  background: var(--sklearn-color-unfitted-level-0);\n",
       "  border: .5pt solid var(--sklearn-color-unfitted-level-3);\n",
       "}\n",
       "\n",
       ".sk-estimator-doc-link.fitted span {\n",
       "  /* fitted */\n",
       "  background: var(--sklearn-color-fitted-level-0);\n",
       "  border: var(--sklearn-color-fitted-level-3);\n",
       "}\n",
       "\n",
       ".sk-estimator-doc-link:hover span {\n",
       "  display: block;\n",
       "}\n",
       "\n",
       "/* \"?\"-specific style due to the `<a>` HTML tag */\n",
       "\n",
       "#sk-container-id-1 a.estimator_doc_link {\n",
       "  float: right;\n",
       "  font-size: 1rem;\n",
       "  line-height: 1em;\n",
       "  font-family: monospace;\n",
       "  background-color: var(--sklearn-color-background);\n",
       "  border-radius: 1rem;\n",
       "  height: 1rem;\n",
       "  width: 1rem;\n",
       "  text-decoration: none;\n",
       "  /* unfitted */\n",
       "  color: var(--sklearn-color-unfitted-level-1);\n",
       "  border: var(--sklearn-color-unfitted-level-1) 1pt solid;\n",
       "}\n",
       "\n",
       "#sk-container-id-1 a.estimator_doc_link.fitted {\n",
       "  /* fitted */\n",
       "  border: var(--sklearn-color-fitted-level-1) 1pt solid;\n",
       "  color: var(--sklearn-color-fitted-level-1);\n",
       "}\n",
       "\n",
       "/* On hover */\n",
       "#sk-container-id-1 a.estimator_doc_link:hover {\n",
       "  /* unfitted */\n",
       "  background-color: var(--sklearn-color-unfitted-level-3);\n",
       "  color: var(--sklearn-color-background);\n",
       "  text-decoration: none;\n",
       "}\n",
       "\n",
       "#sk-container-id-1 a.estimator_doc_link.fitted:hover {\n",
       "  /* fitted */\n",
       "  background-color: var(--sklearn-color-fitted-level-3);\n",
       "}\n",
       "</style><div id=\"sk-container-id-1\" class=\"sk-top-container\"><div class=\"sk-text-repr-fallback\"><pre>LGBMClassifier(is_unbalance=True, learning_rate=0.05, metric=&#x27;f1&#x27;,\n",
       "               n_estimators=500, objective=&#x27;binary&#x27;, random_seed=77)</pre><b>In a Jupyter environment, please rerun this cell to show the HTML representation or trust the notebook. <br />On GitHub, the HTML representation is unable to render, please try loading this page with nbviewer.org.</b></div><div class=\"sk-container\" hidden><div class=\"sk-item\"><div class=\"sk-estimator fitted sk-toggleable\"><input class=\"sk-toggleable__control sk-hidden--visually\" id=\"sk-estimator-id-1\" type=\"checkbox\" checked><label for=\"sk-estimator-id-1\" class=\"sk-toggleable__label fitted sk-toggleable__label-arrow fitted\">&nbsp;LGBMClassifier<span class=\"sk-estimator-doc-link fitted\">i<span>Fitted</span></span></label><div class=\"sk-toggleable__content fitted\"><pre>LGBMClassifier(is_unbalance=True, learning_rate=0.05, metric=&#x27;f1&#x27;,\n",
       "               n_estimators=500, objective=&#x27;binary&#x27;, random_seed=77)</pre></div> </div></div></div></div>"
      ],
      "text/plain": [
       "LGBMClassifier(is_unbalance=True, learning_rate=0.05, metric='f1',\n",
       "               n_estimators=500, objective='binary', random_seed=77)"
      ]
     },
     "execution_count": 74,
     "metadata": {},
     "output_type": "execute_result"
    }
   ],
   "source": [
    "lgbm_params = {\n",
    "    'objective': 'binary',\n",
    "    'metric': 'f1',\n",
    "    'boosting_type': 'gbdt',\n",
    "    'num_leaves': 31,\n",
    "    'learning_rate': 0.05,\n",
    "    'n_estimators': 500,\n",
    "    'random_seed': RANDOM_STATE}\n",
    "model_lgbm = LGBMClassifier(**lgbm_params, is_unbalance=True)\n",
    "\n",
    "model_lgbm.fit(features_train_r, target_train_r)"
   ]
  },
  {
   "cell_type": "code",
   "execution_count": 75,
   "metadata": {},
   "outputs": [
    {
     "name": "stdout",
     "output_type": "stream",
     "text": [
      "\u001b[34;5;1m Метрика F1 для LGBM на валидационной выборке составляет 0.754\n"
     ]
    }
   ],
   "source": [
    "target_predict_lgbm = model_lgbm.predict(features_valid)\n",
    "print('\\u001b[34;5;1m', 'Метрика F1 для LGBM на валидационной выборке составляет {}'.format(round(f1_score(target_predict_lgbm, target_valid),3)))"
   ]
  },
  {
   "cell_type": "markdown",
   "metadata": {},
   "source": [
    "<Font color='navy'><i> Из всех рассмотренных моделей лучшая метирка F1 на валидационной выборке равна 0.764 выборке у модели LogisticRegression"
   ]
  },
  {
   "cell_type": "markdown",
   "metadata": {},
   "source": [
    "#### Лучшая модель на тестовых данных"
   ]
  },
  {
   "cell_type": "code",
   "execution_count": 78,
   "metadata": {},
   "outputs": [
    {
     "name": "stdout",
     "output_type": "stream",
     "text": [
      "\u001b[34;5;1m Показатели качества лучшей модели на тестовой выборке \u001b[0m\n",
      "\u001b[38;5;19m - F1 - 0.763\n",
      "\u001b[38;5;19m - ROC-AUC - 0.968\n",
      "\u001b[38;5;19m - precision - 0.828\n",
      "\u001b[38;5;19m - recall - 0.828\n"
     ]
    }
   ],
   "source": [
    "# рассчитаем прогноз и ключевые метрики для тестовой выборки\n",
    "target_predict_test = best_model.predict(features_test)\n",
    "target_proba_test = best_model.predict_proba(features_test)\n",
    "target_proba_toxic = target_proba_test[:, 1]\n",
    "fpr, tpr, thresholds = roc_curve(target_test, target_proba_toxic)\n",
    "f1_socre = round(f1_score(target_predict_test, target_test), 3)\n",
    "roc_auc = round(roc_auc_score(target_test, target_proba_toxic), 3)\n",
    "precision = round(precision_score(target_predict_test, target_test), 3)\n",
    "recall = round(recall_score(target_predict_test, target_test), 3)\n",
    "\n",
    "print('\\u001b[34;5;1m', f'Показатели качества лучшей модели на тестовой выборке', '\\u001b[0m')\n",
    "print('\\u001b[38;5;19m', f'- F1 - {f1_socre}')\n",
    "print('\\u001b[38;5;19m', f'- ROC-AUC - {roc_auc}')\n",
    "print('\\u001b[38;5;19m', f'- precision - {precision}')\n",
    "print('\\u001b[38;5;19m', f'- recall - {precision}')"
   ]
  },
  {
   "cell_type": "code",
   "execution_count": 79,
   "metadata": {},
   "outputs": [
    {
     "data": {
      "image/png": "[encoded data removed]",
      "text/plain": [
       "<Figure size 640x480 with 2 Axes>"
      ]
     },
     "metadata": {},
     "output_type": "display_data"
    }
   ],
   "source": [
    "# посмотрим на матрицу ошибок\n",
    "cm = confusion_matrix(target_predict_test, target_test)\n",
    "sns.heatmap(cm, annot=True, \\\n",
    "           fmt = 'd', cmap = 'Blues_r')\n",
    "plt.title('Матрица ошибок', color='navy')\n",
    "plt.ylabel('действительные значения', color='navy')\n",
    "plt.xlabel('прогнозные значения', color='navy')\n",
    "plt.show()"
   ]
  },
  {
   "cell_type": "markdown",
   "metadata": {},
   "source": [
    "<font color='Darkblue'> Матрица ошибок показывает, что<br><b>✔️ модель допускает ошибку 2го рода (FN)</b> - ошибочно определяет негативный коммент как позитивный<b> 1076 разa</b>,<br>✔️ <b>модель допускает ошибку 1го рода (FP)</b>, т.е. ошибочно определяет позитивный коммент как негативны - <b>540 раз</b>.<br>"
   ]
  },
  {
   "cell_type": "code",
   "execution_count": 81,
   "metadata": {},
   "outputs": [
    {
     "data": {
      "image/png": "[encoded data removed]",
      "text/plain": [
       "<Figure size 900x400 with 1 Axes>"
      ]
     },
     "metadata": {},
     "output_type": "display_data"
    }
   ],
   "source": [
    "plt.figure(figsize=(9,4))\n",
    "plt.plot(fpr, tpr, linewidth=1.5, color='navy')\n",
    "plt.plot([0, 1], [0, 1], linestyle='--', linewidth=1, color='darkred')\n",
    "plt.xlim([-0.01, 1.01])\n",
    "plt.ylim([-0.01, 1.01])\n",
    "plt.text(0.15,0.75,'ROC-AUC = {:.3f}'.format(roc_auc), color='darkred', fontsize=10)\n",
    "plt.text(0.15,0.65,'F1 = {:.3f}'.format(f1_socre), color='darkgreen', fontsize=10)\n",
    "plt.xlabel('False Positive Rate', color='navy', fontsize=10)\n",
    "plt.ylabel('True Positive Rate', color='navy', fontsize=10)\n",
    "plt.grid(color='grey', linestyle='--')\n",
    "plt.yticks(fontsize=10, color='navy')\n",
    "plt.xticks(fontsize=10, color='navy')\n",
    "plt.title('ROC-curve', color='navy', fontsize=12)\n",
    "\n",
    "plt.show()"
   ]
  },
  {
   "cell_type": "markdown",
   "metadata": {},
   "source": [
    "## Выводы"
   ]
  },
  {
   "cell_type": "markdown",
   "metadata": {},
   "source": [
    "<Font color='navy'>✔️ <b>Целью проекта было найти и обучить модель</b> для магазина \"ВИКИШОП\", которая способна <b>классифицировать комментарии на позитивные и негативные</b> для того, чтобы в дальнейшем токсичные отзывы отправлялись на модерацию. При этом достигуть <b>результата предсказания наилучшей модели по мерке `F1 >= 0.75` "
   ]
  },
  {
   "cell_type": "markdown",
   "metadata": {},
   "source": [
    "<Font color='navy'> Для анализа предоставлен один датасет 159,292 записей и 2 колонки: содержание комментария и его характер (токсичный или нетоксичный)</br>&nbsp;&nbsp;&nbsp;- данные несбалансированы: доля негативных коментариев составляет 10,2% всех комментариев</br>&nbsp;&nbsp;&nbsp; - в данных присутствуют аномально длинные комментарии - 5000 знаков.</br>&nbsp;&nbsp;&nbsp; - средняя длина позитивного комментария (404 симовла) на 33,3% превышает среднюю длину негативного<br>Длина оновной части как положительных, так и отрицательных комментариев находится в переделах 1000 символов "
   ]
  },
  {
   "cell_type": "markdown",
   "metadata": {},
   "source": [
    "<Font color='navy'>С учетом наличия в данных дисбаланса классов тренировочная, валидационная и тестовая выборки сформированы пропорцией 60 х 20 х 20 с использованием стратификации по целевому признаку<br> Также, для избежания некорректной работы модели на несбаллансированной тренировочной выборке, проведено семплирование (oversampling с пропорцией классов 3:2), в результате которого размер тренировочной выборки увеличился до 136956 записей, а доля токсичных комментраиев увеличена до 40%"
   ]
  },
  {
   "cell_type": "markdown",
   "metadata": {},
   "source": [
    "<Font color='navy'>Перебор моделей и их гиперпараметров показал, что <b>наилучшая контрольная метрика F1, рассчитанная на валидационных данных, в размере 0.764  формируется у `МОДЕЛИ LOGISTICREGRESSION`</b>"
   ]
  },
  {
   "cell_type": "markdown",
   "metadata": {},
   "source": [
    "<Font color='navy'><b>Контрольная метрика F1 на тестовых данных лучшей модели LogisticRegression составила 0.763, что выше оперделенного Заказчиком порога."
   ]
  }
 ],
 "metadata": {
  "ExecuteTimeLog": [
   {
    "duration": 29185,
    "start_time": "2025-01-27T09:20:47.333Z"
   }
  ],
  "kernelspec": {
   "display_name": "Python 3 (ipykernel)",
   "language": "python",
   "name": "python3"
  },
  "language_info": {
   "codemirror_mode": {
    "name": "ipython",
    "version": 3
   },
   "file_extension": ".py",
   "mimetype": "text/x-python",
   "name": "python",
   "nbconvert_exporter": "python",
   "pygments_lexer": "ipython3",
   "version": "3.12.3"
  },
  "toc": {
   "base_numbering": 1,
   "nav_menu": {},
   "number_sections": true,
   "sideBar": true,
   "skip_h1_title": true,
   "title_cell": "Содержание",
   "title_sidebar": "Contents",
   "toc_cell": true,
   "toc_position": {
    "height": "calc(100% - 180px)",
    "left": "10px",
    "top": "150px",
    "width": "302.391px"
   },
   "toc_section_display": true,
   "toc_window_display": true
  }
 },
 "nbformat": 4,
 "nbformat_minor": 4
}
